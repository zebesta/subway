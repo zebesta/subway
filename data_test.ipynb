{
 "cells": [
  {
   "cell_type": "code",
   "execution_count": 66,
   "metadata": {
    "collapsed": false
   },
   "outputs": [
    {
     "name": "stdout",
     "output_type": "stream",
     "text": [
      "Hello World\n"
     ]
    }
   ],
   "source": [
    "import matplotlib.pyplot as plt\n",
    "import numpy as np\n",
    "import pandas as pd\n",
    "import seaborn as sns\n",
    "%matplotlib inline\n",
    "\n",
    "filename = 'turnstyle_2016.csv'\n",
    "# Read subway data from csv into a pandas dataframe\n",
    "subway_df = pd.read_csv(filename)\n",
    "# Correct white space on exits\n",
    "subway_df['Exits'] = subway_df['Exits                                                     ']\n",
    "del subway_df['Exits                                                     ']\n",
    "head = subway_df.head()\n",
    "print \"Hello World\""
   ]
  },
  {
   "cell_type": "code",
   "execution_count": 67,
   "metadata": {
    "collapsed": false
   },
   "outputs": [
    {
     "name": "stdout",
     "output_type": "stream",
     "text": [
      "    C/A  Unit       SCP Station Line Name Division        Date      Time  \\\n",
      "0  A002  R051  02-00-00   59 ST    NQR456      BMT  03/04/2016  23:00:00   \n",
      "1  A002  R051  02-00-00   59 ST    NQR456      BMT  03/04/2016  19:00:00   \n",
      "2  A002  R051  02-00-00   59 ST    NQR456      BMT  03/04/2016  15:00:00   \n",
      "3  A002  R051  02-00-00   59 ST    NQR456      BMT  03/04/2016  11:00:00   \n",
      "4  A002  R051  02-00-00   59 ST    NQR456      BMT  03/04/2016  08:10:05   \n",
      "\n",
      "  Description  Entries    Exits  \n",
      "0     REGULAR  5572864  1881239  \n",
      "1     REGULAR  5572521  1881206  \n",
      "2     REGULAR  5571587  1881113  \n",
      "3     REGULAR  5571313  1881031  \n",
      "4     REGULAR  5571173  1880736  \n",
      "9492670\n"
     ]
    }
   ],
   "source": [
    "print subway_df.head()\n",
    "print len(subway_df)"
   ]
  },
  {
   "cell_type": "code",
   "execution_count": 68,
   "metadata": {
    "collapsed": false
   },
   "outputs": [
    {
     "name": "stdout",
     "output_type": "stream",
     "text": [
      "          C/A  Unit       SCP Station Line Name Division        Date  \\\n",
      "7945848  A013  R081  01-05-00   49 ST      NQRW      BMT  11/03/2016   \n",
      "7947613  A013  R081  01-05-00   49 ST      NQRW      BMT  11/04/2016   \n",
      "7951228  A013  R081  01-05-00   49 ST      NQRW      BMT  11/04/2016   \n",
      "7952926  A013  R081  01-05-00   49 ST      NQRW      BMT  11/04/2016   \n",
      "7953406  A002  R051  02-00-01   59 ST   NQR456W      BMT  11/02/2016   \n",
      "\n",
      "             Time Description  Entries    Exits  \n",
      "7945848  20:00:00     REGULAR      621        0  \n",
      "7947613  00:00:00     REGULAR      622        0  \n",
      "7951228  04:00:00     REGULAR      622        0  \n",
      "7952926  08:00:00     REGULAR      622        0  \n",
      "7953406  00:00:00     REGULAR  5409973  1187639  \n",
      "194218\n"
     ]
    }
   ],
   "source": [
    "subway_week = subway_df[subway_df['Date'].isin(['10/31/2016','11/01/2016','11/02/2016','11/03/2016','11/04/2016','11/05/2016','11/06/2016'])]\n",
    "print subway_week.head()\n",
    "print len(subway_week)"
   ]
  },
  {
   "cell_type": "code",
   "execution_count": 69,
   "metadata": {
    "collapsed": false
   },
   "outputs": [
    {
     "name": "stdout",
     "output_type": "stream",
     "text": [
      "          C/A  Unit       SCP Station Line Name Division        Date  \\\n",
      "7953406  A002  R051  02-00-01   59 ST   NQR456W      BMT  11/02/2016   \n",
      "7953407  A002  R051  02-00-01   59 ST   NQR456W      BMT  11/02/2016   \n",
      "7953408  A002  R051  02-00-01   59 ST   NQR456W      BMT  11/02/2016   \n",
      "7953409  A002  R051  02-00-01   59 ST   NQR456W      BMT  11/02/2016   \n",
      "7953410  A002  R051  02-00-01   59 ST   NQR456W      BMT  11/02/2016   \n",
      "\n",
      "             Time Description  Entries    Exits  \n",
      "7953406  00:00:00     REGULAR  5409973  1187639  \n",
      "7953407  04:00:00     REGULAR  5409982  1187641  \n",
      "7953408  08:00:00     REGULAR  5410033  1187679  \n",
      "7953409  12:00:00     REGULAR  5410183  1187818  \n",
      "7953410  16:00:00     REGULAR  5410486  1187889  \n",
      "27296\n"
     ]
    }
   ],
   "source": [
    "subway_day = subway_df[subway_df['Date'].isin(['11/02/2016'])]\n",
    "print subway_day.head()\n",
    "print len(subway_day)\n",
    "subway_day.to_csv('day_data.csv')"
   ]
  },
  {
   "cell_type": "code",
   "execution_count": 70,
   "metadata": {
    "collapsed": false
   },
   "outputs": [],
   "source": [
    "def hourly(series):\n",
    "    hourly = series - series.shift(1)\n",
    "    return hourly"
   ]
  },
  {
   "cell_type": "code",
   "execution_count": 75,
   "metadata": {
    "collapsed": false
   },
   "outputs": [
    {
     "name": "stdout",
     "output_type": "stream",
     "text": [
      "Index([u'C/A', u'Unit', u'SCP', u'Station', u'Line Name', u'Division', u'Date',\n",
      "       u'Time', u'Description', u'Entries', u'Exits'],\n",
      "      dtype='object')\n",
      "            Entries         Exits\n",
      "count  22512.000000  22512.000000\n",
      "mean     253.508129    184.261105\n",
      "std      329.642410    290.747233\n",
      "min        0.000000      0.000000\n",
      "25%       15.000000     10.000000\n",
      "50%      132.000000     75.000000\n",
      "75%      375.000000    232.000000\n",
      "max     3011.000000   3718.000000\n",
      "         Entries  Exits\n",
      "7953407      9.0    2.0\n",
      "7953408     51.0   38.0\n",
      "7953409    150.0  139.0\n",
      "7953410    303.0   71.0\n",
      "7953411    812.0   71.0\n",
      "7953449      6.0    7.0\n",
      "7953450     18.0  325.0\n",
      "7953451     64.0  832.0\n",
      "7953452    137.0  459.0\n",
      "7953453    314.0  580.0\n",
      "7953491     16.0   15.0\n",
      "7953492     48.0  351.0\n",
      "7953493    159.0  880.0\n",
      "7953494    299.0  469.0\n",
      "7953495    595.0  742.0\n",
      "7953533     25.0    9.0\n",
      "7953534     48.0  423.0\n",
      "7953535    194.0  879.0\n",
      "7953536    305.0  365.0\n",
      "7953537    699.0  565.0\n",
      "7953575      8.0    9.0\n",
      "7953576     58.0  472.0\n",
      "7953577    257.0  770.0\n",
      "7953578    302.0  251.0\n",
      "7953579    750.0  284.0\n",
      "7953617     23.0    3.0\n",
      "7953618     74.0  334.0\n",
      "7953619    332.0  342.0\n",
      "7953620    352.0   94.0\n",
      "7953621    978.0   84.0\n",
      "...          ...    ...\n",
      "8144794      1.0    1.0\n",
      "8144795    598.0    3.0\n",
      "8144796    553.0    5.0\n",
      "8144797    383.0    6.0\n",
      "8144798    249.0    2.0\n",
      "8144837      1.0    5.0\n",
      "8144838    592.0    0.0\n",
      "8144839    524.0    3.0\n",
      "8144840    325.0    6.0\n",
      "8144841    226.0    2.0\n",
      "8144880      0.0    1.0\n",
      "8144881     37.0    2.0\n",
      "8144882     72.0    1.0\n",
      "8144883     98.0    1.0\n",
      "8144884     74.0    1.0\n",
      "8144923      0.0    0.0\n",
      "8144924     16.0    0.0\n",
      "8144925     89.0    1.0\n",
      "8144926    101.0    3.0\n",
      "8144927     74.0    5.0\n",
      "8144966      0.0    0.0\n",
      "8144967      0.0    0.0\n",
      "8144968      3.0    0.0\n",
      "8144969      2.0    0.0\n",
      "8144970      0.0    0.0\n",
      "8145009      0.0    0.0\n",
      "8145010      0.0    0.0\n",
      "8145011      0.0    0.0\n",
      "8145012      0.0    0.0\n",
      "8145013      0.0    0.0\n",
      "\n",
      "[22512 rows x 2 columns]\n"
     ]
    }
   ],
   "source": [
    "# subway_grouped_hourly = subway_week.groupby('Unit')[['Entries']].apply(hourly).dropna()\n",
    "# print subway_grouped_hourly.head()\n",
    "# print subway_grouped_hourly.describe()\n",
    "# subway_grouped_hourly.to_csv('SUBWAY_GROUPED_HOURLY.csv')\n",
    "print subway_day.columns\n",
    "# subway_day['Exits'] = subway_day['Exits                                                     ']\n",
    "subway_grouped = subway_day.groupby(['Unit', 'SCP'])[['Entries', 'Exits']].apply(hourly)\n",
    "# remove negatives or crazy values\n",
    "subway_grouped = subway_grouped.where( 0 <= subway_grouped['Entries'])\n",
    "subway_grouped = subway_grouped.where(subway_grouped['Entries'] < 100000)\n",
    "subway_grouped = subway_grouped.where( 0 <= subway_grouped['Exits'])\n",
    "subway_grouped = subway_grouped.where(subway_grouped['Exits'] < 100000)\n",
    "subway_grouped = subway_grouped.dropna()\n",
    "print subway_grouped.describe()\n",
    "print subway_grouped\n",
    "# print subway_grouped.describe()\n"
   ]
  },
  {
   "cell_type": "code",
   "execution_count": 76,
   "metadata": {
    "collapsed": false
   },
   "outputs": [],
   "source": [
    "# print type(subway_grouped)\n",
    "# print subway_grouped\n",
    "\n",
    "# subway_grouped.to_csv('WHAT.csv')"
   ]
  },
  {
   "cell_type": "code",
   "execution_count": 77,
   "metadata": {
    "collapsed": false
   },
   "outputs": [
    {
     "data": {
      "text/plain": [
       "[<matplotlib.lines.Line2D at 0x110b3ba90>,\n",
       " <matplotlib.lines.Line2D at 0x110b3b690>]"
      ]
     },
     "execution_count": 77,
     "metadata": {},
     "output_type": "execute_result"
    },
    {
     "data": {
      "image/png": "[encoded data removed]",
      "text/plain": [
       "<matplotlib.figure.Figure at 0x10fc087d0>"
      ]
     },
     "metadata": {},
     "output_type": "display_data"
    }
   ],
   "source": [
    "index = subway_grouped.idxmax()\n",
    "plt.plot(subway_grouped)"
   ]
  },
  {
   "cell_type": "code",
   "execution_count": null,
   "metadata": {
    "collapsed": true
   },
   "outputs": [],
   "source": []
  }
 ],
 "metadata": {
  "anaconda-cloud": {},
  "kernelspec": {
   "display_name": "Python [py27]",
   "language": "python",
   "name": "Python [py27]"
  },
  "language_info": {
   "codemirror_mode": {
    "name": "ipython",
    "version": 2
   },
   "file_extension": ".py",
   "mimetype": "text/x-python",
   "name": "python",
   "nbconvert_exporter": "python",
   "pygments_lexer": "ipython2",
   "version": "2.7.13"
  }
 },
 "nbformat": 4,
 "nbformat_minor": 0
}
