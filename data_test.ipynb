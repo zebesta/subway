{
 "cells": [
  {
   "cell_type": "code",
   "execution_count": 1,
   "metadata": {
    "collapsed": false
   },
   "outputs": [
    {
     "name": "stderr",
     "output_type": "stream",
     "text": [
      "/Users/chrissebesta/anaconda3/envs/py27/lib/python2.7/site-packages/IPython/html.py:14: ShimWarning: The `IPython.html` package has been deprecated. You should import from `notebook` instead. `IPython.html.widgets` has moved to `ipywidgets`.\n",
      "  \"`IPython.html.widgets` has moved to `ipywidgets`.\", ShimWarning)\n",
      "/Users/chrissebesta/anaconda3/envs/py27/lib/python2.7/site-packages/IPython/core/interactiveshell.py:2717: DtypeWarning: Columns (4) have mixed types. Specify dtype option on import or set low_memory=False.\n",
      "  interactivity=interactivity, compiler=compiler, result=result)\n"
     ]
    },
    {
     "name": "stdout",
     "output_type": "stream",
     "text": [
      "Hello World\n"
     ]
    }
   ],
   "source": [
    "import matplotlib.pyplot as plt\n",
    "import numpy as np\n",
    "import pandas as pd\n",
    "import seaborn as sns\n",
    "%matplotlib inline\n",
    "\n",
    "filename = 'turnstyle_2016.csv'\n",
    "# Read subway data from csv into a pandas dataframe\n",
    "subway_df = pd.read_csv(filename)\n",
    "head = subway_df.head()\n",
    "print \"Hello World\""
   ]
  },
  {
   "cell_type": "code",
   "execution_count": 15,
   "metadata": {
    "collapsed": false
   },
   "outputs": [
    {
     "name": "stdout",
     "output_type": "stream",
     "text": [
      "    C/A  Unit       SCP Station Line Name Division        Date      Time  \\\n",
      "0  A002  R051  02-00-00   59 ST    NQR456      BMT  03/04/2016  23:00:00   \n",
      "1  A002  R051  02-00-00   59 ST    NQR456      BMT  03/04/2016  19:00:00   \n",
      "2  A002  R051  02-00-00   59 ST    NQR456      BMT  03/04/2016  15:00:00   \n",
      "3  A002  R051  02-00-00   59 ST    NQR456      BMT  03/04/2016  11:00:00   \n",
      "4  A002  R051  02-00-00   59 ST    NQR456      BMT  03/04/2016  08:10:05   \n",
      "\n",
      "  Description  Entries  \\\n",
      "0     REGULAR  5572864   \n",
      "1     REGULAR  5572521   \n",
      "2     REGULAR  5571587   \n",
      "3     REGULAR  5571313   \n",
      "4     REGULAR  5571173   \n",
      "\n",
      "   Exits                                                       \n",
      "0                                            1881239           \n",
      "1                                            1881206           \n",
      "2                                            1881113           \n",
      "3                                            1881031           \n",
      "4                                            1880736           \n",
      "9492670\n"
     ]
    }
   ],
   "source": [
    "print subway_df.head()\n",
    "print len(subway_df)"
   ]
  },
  {
   "cell_type": "code",
   "execution_count": 18,
   "metadata": {
    "collapsed": false
   },
   "outputs": [
    {
     "name": "stdout",
     "output_type": "stream",
     "text": [
      "          C/A  Unit       SCP Station Line Name Division        Date  \\\n",
      "7945848  A013  R081  01-05-00   49 ST      NQRW      BMT  11/03/2016   \n",
      "7947613  A013  R081  01-05-00   49 ST      NQRW      BMT  11/04/2016   \n",
      "7951228  A013  R081  01-05-00   49 ST      NQRW      BMT  11/04/2016   \n",
      "7952926  A013  R081  01-05-00   49 ST      NQRW      BMT  11/04/2016   \n",
      "7953406  A002  R051  02-00-01   59 ST   NQR456W      BMT  11/02/2016   \n",
      "\n",
      "             Time Description  Entries  \\\n",
      "7945848  20:00:00     REGULAR      621   \n",
      "7947613  00:00:00     REGULAR      622   \n",
      "7951228  04:00:00     REGULAR      622   \n",
      "7952926  08:00:00     REGULAR      622   \n",
      "7953406  00:00:00     REGULAR  5409973   \n",
      "\n",
      "         Exits                                                       \n",
      "7945848                                                  0           \n",
      "7947613                                                  0           \n",
      "7951228                                                  0           \n",
      "7952926                                                  0           \n",
      "7953406                                            1187639           \n",
      "194218\n"
     ]
    }
   ],
   "source": [
    "subway_week = subway_df[subway_df['Date'].isin(['10/31/2016','11/01/2016','11/02/2016','11/03/2016','11/04/2016','11/05/2016','11/06/2016'])]\n",
    "print subway_week.head()\n",
    "print len(subway_week)"
   ]
  },
  {
   "cell_type": "code",
   "execution_count": 32,
   "metadata": {
    "collapsed": false
   },
   "outputs": [
    {
     "name": "stdout",
     "output_type": "stream",
     "text": [
      "          C/A  Unit       SCP Station Line Name Division        Date  \\\n",
      "7953406  A002  R051  02-00-01   59 ST   NQR456W      BMT  11/02/2016   \n",
      "7953407  A002  R051  02-00-01   59 ST   NQR456W      BMT  11/02/2016   \n",
      "7953408  A002  R051  02-00-01   59 ST   NQR456W      BMT  11/02/2016   \n",
      "7953409  A002  R051  02-00-01   59 ST   NQR456W      BMT  11/02/2016   \n",
      "7953410  A002  R051  02-00-01   59 ST   NQR456W      BMT  11/02/2016   \n",
      "\n",
      "             Time Description  Entries  \\\n",
      "7953406  00:00:00     REGULAR  5409973   \n",
      "7953407  04:00:00     REGULAR  5409982   \n",
      "7953408  08:00:00     REGULAR  5410033   \n",
      "7953409  12:00:00     REGULAR  5410183   \n",
      "7953410  16:00:00     REGULAR  5410486   \n",
      "\n",
      "         Exits                                                       \n",
      "7953406                                            1187639           \n",
      "7953407                                            1187641           \n",
      "7953408                                            1187679           \n",
      "7953409                                            1187818           \n",
      "7953410                                            1187889           \n",
      "27296\n"
     ]
    }
   ],
   "source": [
    "subway_day = subway_df[subway_df['Date'].isin(['11/02/2016'])]\n",
    "print subway_day.head()\n",
    "print len(subway_day)"
   ]
  },
  {
   "cell_type": "code",
   "execution_count": 33,
   "metadata": {
    "collapsed": false
   },
   "outputs": [],
   "source": [
    "def hourly(series):\n",
    "    hourly = series - series.shift(1)\n",
    "    return hourly"
   ]
  },
  {
   "cell_type": "code",
   "execution_count": 43,
   "metadata": {
    "collapsed": false
   },
   "outputs": [
    {
     "ename": "KeyError",
     "evalue": "'Column not found: 0'",
     "output_type": "error",
     "traceback": [
      "\u001b[0;31m---------------------------------------------------------------------------\u001b[0m",
      "\u001b[0;31mKeyError\u001b[0m                                  Traceback (most recent call last)",
      "\u001b[0;32m<ipython-input-43-7051093219b2>\u001b[0m in \u001b[0;36m<module>\u001b[0;34m()\u001b[0m\n\u001b[0;32m----> 1\u001b[0;31m \u001b[0msubway_grouped_hourly\u001b[0m \u001b[0;34m=\u001b[0m \u001b[0msubway_week\u001b[0m\u001b[0;34m.\u001b[0m\u001b[0mgroupby\u001b[0m\u001b[0;34m(\u001b[0m\u001b[0;34m'Unit'\u001b[0m\u001b[0;34m)\u001b[0m\u001b[0;34m[\u001b[0m\u001b[0;36m0\u001b[0m\u001b[0;34m]\u001b[0m\u001b[0;34m\u001b[0m\u001b[0m\n\u001b[0m\u001b[1;32m      2\u001b[0m \u001b[0;32mprint\u001b[0m \u001b[0msubway_grouped_hourly\u001b[0m\u001b[0;34m.\u001b[0m\u001b[0mdescribe\u001b[0m\u001b[0;34m(\u001b[0m\u001b[0;34m)\u001b[0m\u001b[0;34m\u001b[0m\u001b[0m\n",
      "\u001b[0;32m/Users/chrissebesta/anaconda3/envs/py27/lib/python2.7/site-packages/pandas/core/base.pyc\u001b[0m in \u001b[0;36m__getitem__\u001b[0;34m(self, key)\u001b[0m\n\u001b[1;32m    345\u001b[0m         \u001b[0;32melse\u001b[0m\u001b[0;34m:\u001b[0m\u001b[0;34m\u001b[0m\u001b[0m\n\u001b[1;32m    346\u001b[0m             \u001b[0;32mif\u001b[0m \u001b[0mkey\u001b[0m \u001b[0;32mnot\u001b[0m \u001b[0;32min\u001b[0m \u001b[0mself\u001b[0m\u001b[0;34m.\u001b[0m\u001b[0mobj\u001b[0m\u001b[0;34m:\u001b[0m\u001b[0;34m\u001b[0m\u001b[0m\n\u001b[0;32m--> 347\u001b[0;31m                 \u001b[0;32mraise\u001b[0m \u001b[0mKeyError\u001b[0m\u001b[0;34m(\u001b[0m\u001b[0;34m\"Column not found: %s\"\u001b[0m \u001b[0;34m%\u001b[0m \u001b[0mkey\u001b[0m\u001b[0;34m)\u001b[0m\u001b[0;34m\u001b[0m\u001b[0m\n\u001b[0m\u001b[1;32m    348\u001b[0m             \u001b[0;32mreturn\u001b[0m \u001b[0mself\u001b[0m\u001b[0;34m.\u001b[0m\u001b[0m_gotitem\u001b[0m\u001b[0;34m(\u001b[0m\u001b[0mkey\u001b[0m\u001b[0;34m,\u001b[0m \u001b[0mndim\u001b[0m\u001b[0;34m=\u001b[0m\u001b[0;36m1\u001b[0m\u001b[0;34m)\u001b[0m\u001b[0;34m\u001b[0m\u001b[0m\n\u001b[1;32m    349\u001b[0m \u001b[0;34m\u001b[0m\u001b[0m\n",
      "\u001b[0;31mKeyError\u001b[0m: 'Column not found: 0'"
     ]
    }
   ],
   "source": [
    "subway_grouped_hourly = subway_week.groupby('Unit')[0]\n",
    "print subway_grouped_hourly.describe()"
   ]
  },
  {
   "cell_type": "code",
   "execution_count": null,
   "metadata": {
    "collapsed": true
   },
   "outputs": [],
   "source": []
  }
 ],
 "metadata": {
  "anaconda-cloud": {},
  "kernelspec": {
   "display_name": "Python [py27]",
   "language": "python",
   "name": "Python [py27]"
  },
  "language_info": {
   "codemirror_mode": {
    "name": "ipython",
    "version": 2
   },
   "file_extension": ".py",
   "mimetype": "text/x-python",
   "name": "python",
   "nbconvert_exporter": "python",
   "pygments_lexer": "ipython2",
   "version": "2.7.13"
  }
 },
 "nbformat": 4,
 "nbformat_minor": 0
}
