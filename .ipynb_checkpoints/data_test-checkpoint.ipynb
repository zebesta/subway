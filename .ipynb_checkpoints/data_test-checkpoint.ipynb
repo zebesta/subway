{
 "cells": [
  {
   "cell_type": "code",
   "execution_count": 1,
   "metadata": {
    "collapsed": false
   },
   "outputs": [
    {
     "name": "stderr",
     "output_type": "stream",
     "text": [
      "/Users/chrissebesta/anaconda3/envs/py27/lib/python2.7/site-packages/IPython/html.py:14: ShimWarning: The `IPython.html` package has been deprecated. You should import from `notebook` instead. `IPython.html.widgets` has moved to `ipywidgets`.\n",
      "  \"`IPython.html.widgets` has moved to `ipywidgets`.\", ShimWarning)\n",
      "/Users/chrissebesta/anaconda3/envs/py27/lib/python2.7/site-packages/IPython/core/interactiveshell.py:2717: DtypeWarning: Columns (4) have mixed types. Specify dtype option on import or set low_memory=False.\n",
      "  interactivity=interactivity, compiler=compiler, result=result)\n"
     ]
    },
    {
     "name": "stdout",
     "output_type": "stream",
     "text": [
      "Hello World\n"
     ]
    }
   ],
   "source": [
    "import matplotlib.pyplot as plt\n",
    "import numpy as np\n",
    "import pandas as pd\n",
    "import seaborn as sns\n",
    "%matplotlib inline\n",
    "\n",
    "filename = 'turnstyle_2016.csv'\n",
    "# Read subway data from csv into a pandas dataframe\n",
    "subway_df = pd.read_csv(filename)\n",
    "head = subway_df.head()\n",
    "print \"Hello World\""
   ]
  },
  {
   "cell_type": "code",
   "execution_count": 2,
   "metadata": {
    "collapsed": false
   },
   "outputs": [
    {
     "name": "stdout",
     "output_type": "stream",
     "text": [
      "    C/A  Unit       SCP Station Line Name Division        Date      Time  \\\n",
      "0  A002  R051  02-00-00   59 ST    NQR456      BMT  03/04/2016  23:00:00   \n",
      "1  A002  R051  02-00-00   59 ST    NQR456      BMT  03/04/2016  19:00:00   \n",
      "2  A002  R051  02-00-00   59 ST    NQR456      BMT  03/04/2016  15:00:00   \n",
      "3  A002  R051  02-00-00   59 ST    NQR456      BMT  03/04/2016  11:00:00   \n",
      "4  A002  R051  02-00-00   59 ST    NQR456      BMT  03/04/2016  08:10:05   \n",
      "\n",
      "  Description  Entries  \\\n",
      "0     REGULAR  5572864   \n",
      "1     REGULAR  5572521   \n",
      "2     REGULAR  5571587   \n",
      "3     REGULAR  5571313   \n",
      "4     REGULAR  5571173   \n",
      "\n",
      "   Exits                                                       \n",
      "0                                            1881239           \n",
      "1                                            1881206           \n",
      "2                                            1881113           \n",
      "3                                            1881031           \n",
      "4                                            1880736           \n",
      "9492670\n"
     ]
    }
   ],
   "source": [
    "print subway_df.head()\n",
    "print len(subway_df)"
   ]
  },
  {
   "cell_type": "code",
   "execution_count": 3,
   "metadata": {
    "collapsed": false
   },
   "outputs": [
    {
     "name": "stdout",
     "output_type": "stream",
     "text": [
      "          C/A  Unit       SCP Station Line Name Division        Date  \\\n",
      "7945848  A013  R081  01-05-00   49 ST      NQRW      BMT  11/03/2016   \n",
      "7947613  A013  R081  01-05-00   49 ST      NQRW      BMT  11/04/2016   \n",
      "7951228  A013  R081  01-05-00   49 ST      NQRW      BMT  11/04/2016   \n",
      "7952926  A013  R081  01-05-00   49 ST      NQRW      BMT  11/04/2016   \n",
      "7953406  A002  R051  02-00-01   59 ST   NQR456W      BMT  11/02/2016   \n",
      "\n",
      "             Time Description  Entries  \\\n",
      "7945848  20:00:00     REGULAR      621   \n",
      "7947613  00:00:00     REGULAR      622   \n",
      "7951228  04:00:00     REGULAR      622   \n",
      "7952926  08:00:00     REGULAR      622   \n",
      "7953406  00:00:00     REGULAR  5409973   \n",
      "\n",
      "         Exits                                                       \n",
      "7945848                                                  0           \n",
      "7947613                                                  0           \n",
      "7951228                                                  0           \n",
      "7952926                                                  0           \n",
      "7953406                                            1187639           \n",
      "194218\n"
     ]
    }
   ],
   "source": [
    "subway_week = subway_df[subway_df['Date'].isin(['10/31/2016','11/01/2016','11/02/2016','11/03/2016','11/04/2016','11/05/2016','11/06/2016'])]\n",
    "print subway_week.head()\n",
    "print len(subway_week)"
   ]
  },
  {
   "cell_type": "code",
   "execution_count": 4,
   "metadata": {
    "collapsed": false
   },
   "outputs": [
    {
     "name": "stdout",
     "output_type": "stream",
     "text": [
      "          C/A  Unit       SCP Station Line Name Division        Date  \\\n",
      "7953406  A002  R051  02-00-01   59 ST   NQR456W      BMT  11/02/2016   \n",
      "7953407  A002  R051  02-00-01   59 ST   NQR456W      BMT  11/02/2016   \n",
      "7953408  A002  R051  02-00-01   59 ST   NQR456W      BMT  11/02/2016   \n",
      "7953409  A002  R051  02-00-01   59 ST   NQR456W      BMT  11/02/2016   \n",
      "7953410  A002  R051  02-00-01   59 ST   NQR456W      BMT  11/02/2016   \n",
      "\n",
      "             Time Description  Entries  \\\n",
      "7953406  00:00:00     REGULAR  5409973   \n",
      "7953407  04:00:00     REGULAR  5409982   \n",
      "7953408  08:00:00     REGULAR  5410033   \n",
      "7953409  12:00:00     REGULAR  5410183   \n",
      "7953410  16:00:00     REGULAR  5410486   \n",
      "\n",
      "         Exits                                                       \n",
      "7953406                                            1187639           \n",
      "7953407                                            1187641           \n",
      "7953408                                            1187679           \n",
      "7953409                                            1187818           \n",
      "7953410                                            1187889           \n",
      "27296\n"
     ]
    }
   ],
   "source": [
    "subway_day = subway_df[subway_df['Date'].isin(['11/02/2016'])]\n",
    "print subway_day.head()\n",
    "print len(subway_day)\n",
    "subway_day.to_csv('day_data.csv')"
   ]
  },
  {
   "cell_type": "code",
   "execution_count": 5,
   "metadata": {
    "collapsed": false
   },
   "outputs": [],
   "source": [
    "def hourly(series):\n",
    "    hourly = series - series.shift(1)\n",
    "    return hourly"
   ]
  },
  {
   "cell_type": "code",
   "execution_count": 8,
   "metadata": {
    "collapsed": false
   },
   "outputs": [
    {
     "name": "stdout",
     "output_type": "stream",
     "text": [
      "         Entries\n",
      "7953407      9.0\n",
      "7953408     51.0\n",
      "7953409    150.0\n",
      "7953410    303.0\n",
      "7953411    812.0\n",
      "7953449      6.0\n",
      "7953450     18.0\n",
      "7953451     64.0\n",
      "7953452    137.0\n",
      "7953453    314.0\n",
      "7953491     16.0\n",
      "7953492     48.0\n",
      "7953493    159.0\n",
      "7953494    299.0\n",
      "7953495    595.0\n",
      "7953533     25.0\n",
      "7953534     48.0\n",
      "7953535    194.0\n",
      "7953536    305.0\n",
      "7953537    699.0\n",
      "7953575      8.0\n",
      "7953576     58.0\n",
      "7953577    257.0\n",
      "7953578    302.0\n",
      "7953579    750.0\n",
      "7953617     23.0\n",
      "7953618     74.0\n",
      "7953619    332.0\n",
      "7953620    352.0\n",
      "7953621    978.0\n",
      "...          ...\n",
      "8144794      1.0\n",
      "8144795    598.0\n",
      "8144796    553.0\n",
      "8144797    383.0\n",
      "8144798    249.0\n",
      "8144837      1.0\n",
      "8144838    592.0\n",
      "8144839    524.0\n",
      "8144840    325.0\n",
      "8144841    226.0\n",
      "8144880      0.0\n",
      "8144881     37.0\n",
      "8144882     72.0\n",
      "8144883     98.0\n",
      "8144884     74.0\n",
      "8144923      0.0\n",
      "8144924     16.0\n",
      "8144925     89.0\n",
      "8144926    101.0\n",
      "8144927     74.0\n",
      "8144966      0.0\n",
      "8144967      0.0\n",
      "8144968      3.0\n",
      "8144969      2.0\n",
      "8144970      0.0\n",
      "8145009      0.0\n",
      "8145010      0.0\n",
      "8145011      0.0\n",
      "8145012      0.0\n",
      "8145013      0.0\n",
      "\n",
      "[22739 rows x 1 columns]\n",
      "             Entries\n",
      "count   22739.000000\n",
      "mean      261.187167\n",
      "std      2240.986794\n",
      "min    -40459.000000\n",
      "25%        14.000000\n",
      "50%       129.000000\n",
      "75%       373.000000\n",
      "max    331873.000000\n"
     ]
    }
   ],
   "source": [
    "# subway_grouped_hourly = subway_week.groupby('Unit')[['Entries']].apply(hourly).dropna()\n",
    "# print subway_grouped_hourly.head()\n",
    "# print subway_grouped_hourly.describe()\n",
    "# subway_grouped_hourly.to_csv('SUBWAY_GROUPED_HOURLY.csv')\n",
    "\n",
    "subway_grouped = subway_day.groupby(['Unit', 'SCP'])[['Entries']].apply(hourly).dropna()\n",
    "print subway_grouped\n",
    "print subway_grouped.describe()"
   ]
  },
  {
   "cell_type": "code",
   "execution_count": 9,
   "metadata": {
    "collapsed": false
   },
   "outputs": [
    {
     "ename": "NameError",
     "evalue": "name 'Entries' is not defined",
     "output_type": "error",
     "traceback": [
      "\u001b[0;31m---------------------------------------------------------------------------\u001b[0m",
      "\u001b[0;31mNameError\u001b[0m                                 Traceback (most recent call last)",
      "\u001b[0;32m<ipython-input-9-2e3981f24bb6>\u001b[0m in \u001b[0;36m<module>\u001b[0;34m()\u001b[0m\n\u001b[0;32m----> 1\u001b[0;31m \u001b[0;32mprint\u001b[0m \u001b[0msubway_grouped\u001b[0m\u001b[0;34m[\u001b[0m\u001b[0mEntries\u001b[0m\u001b[0;34m]\u001b[0m\u001b[0;34m.\u001b[0m\u001b[0msort\u001b[0m\u001b[0;34m(\u001b[0m\u001b[0;34m)\u001b[0m\u001b[0;34m.\u001b[0m\u001b[0mhead\u001b[0m\u001b[0;34m(\u001b[0m\u001b[0;34m)\u001b[0m\u001b[0;34m\u001b[0m\u001b[0m\n\u001b[0m",
      "\u001b[0;31mNameError\u001b[0m: name 'Entries' is not defined"
     ]
    }
   ],
   "source": [
    "print subway_grouped['Entries'].sort().head()"
   ]
  },
  {
   "cell_type": "code",
   "execution_count": null,
   "metadata": {
    "collapsed": true
   },
   "outputs": [],
   "source": []
  }
 ],
 "metadata": {
  "anaconda-cloud": {},
  "kernelspec": {
   "display_name": "Python [py27]",
   "language": "python",
   "name": "Python [py27]"
  },
  "language_info": {
   "codemirror_mode": {
    "name": "ipython",
    "version": 2
   },
   "file_extension": ".py",
   "mimetype": "text/x-python",
   "name": "python",
   "nbconvert_exporter": "python",
   "pygments_lexer": "ipython2",
   "version": "2.7.13"
  }
 },
 "nbformat": 4,
 "nbformat_minor": 0
}
